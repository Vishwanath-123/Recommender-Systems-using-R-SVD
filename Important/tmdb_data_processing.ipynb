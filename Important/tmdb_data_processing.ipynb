{
 "cells": [
  {
   "cell_type": "code",
   "execution_count": 1,
   "metadata": {},
   "outputs": [],
   "source": [
    "import numpy as np \n",
    "import pandas as pd"
   ]
  },
  {
   "cell_type": "code",
   "execution_count": 2,
   "metadata": {},
   "outputs": [],
   "source": [
    "credits = pd.read_csv(\"../Movie_recommendations/tmdb_data/tmdb_5000_credits.csv\")\n",
    "movies = pd.read_csv(\"../Movie_recommendations/tmdb_data/tmdb_5000_movies.csv\")\n",
    "ratings = pd.read_csv(\"../Movie_recommendations/tmdb_data/ratings_small.csv\")\n",
    "\n",
    "credits.rename(columns={'movie_id':'movie'}, inplace=True)\n",
    "movies.rename(columns={'id':'movie'}, inplace=True)\n",
    "ratings.rename(columns={'movieId':'movie', \"userId\":\"user\"}, inplace=True)"
   ]
  },
  {
   "cell_type": "code",
   "execution_count": 3,
   "metadata": {},
   "outputs": [],
   "source": [
    "data = pd.merge(credits,movies, on=\"movie\")\n",
    "df = data.merge(ratings, on=\"movie\")"
   ]
  },
  {
   "cell_type": "code",
   "execution_count": 4,
   "metadata": {},
   "outputs": [
    {
     "data": {
      "text/html": [
       "<div>\n",
       "<style scoped>\n",
       "    .dataframe tbody tr th:only-of-type {\n",
       "        vertical-align: middle;\n",
       "    }\n",
       "\n",
       "    .dataframe tbody tr th {\n",
       "        vertical-align: top;\n",
       "    }\n",
       "\n",
       "    .dataframe thead th {\n",
       "        text-align: right;\n",
       "    }\n",
       "</style>\n",
       "<table border=\"1\" class=\"dataframe\">\n",
       "  <thead>\n",
       "    <tr style=\"text-align: right;\">\n",
       "      <th></th>\n",
       "      <th>user</th>\n",
       "      <th>movie</th>\n",
       "      <th>rating</th>\n",
       "    </tr>\n",
       "  </thead>\n",
       "  <tbody>\n",
       "    <tr>\n",
       "      <th>0</th>\n",
       "      <td>1</td>\n",
       "      <td>31</td>\n",
       "      <td>2.5</td>\n",
       "    </tr>\n",
       "    <tr>\n",
       "      <th>1</th>\n",
       "      <td>1</td>\n",
       "      <td>1029</td>\n",
       "      <td>3.0</td>\n",
       "    </tr>\n",
       "    <tr>\n",
       "      <th>2</th>\n",
       "      <td>1</td>\n",
       "      <td>1061</td>\n",
       "      <td>3.0</td>\n",
       "    </tr>\n",
       "    <tr>\n",
       "      <th>3</th>\n",
       "      <td>1</td>\n",
       "      <td>1129</td>\n",
       "      <td>2.0</td>\n",
       "    </tr>\n",
       "    <tr>\n",
       "      <th>4</th>\n",
       "      <td>1</td>\n",
       "      <td>1172</td>\n",
       "      <td>4.0</td>\n",
       "    </tr>\n",
       "    <tr>\n",
       "      <th>...</th>\n",
       "      <td>...</td>\n",
       "      <td>...</td>\n",
       "      <td>...</td>\n",
       "    </tr>\n",
       "    <tr>\n",
       "      <th>99999</th>\n",
       "      <td>671</td>\n",
       "      <td>6268</td>\n",
       "      <td>2.5</td>\n",
       "    </tr>\n",
       "    <tr>\n",
       "      <th>100000</th>\n",
       "      <td>671</td>\n",
       "      <td>6269</td>\n",
       "      <td>4.0</td>\n",
       "    </tr>\n",
       "    <tr>\n",
       "      <th>100001</th>\n",
       "      <td>671</td>\n",
       "      <td>6365</td>\n",
       "      <td>4.0</td>\n",
       "    </tr>\n",
       "    <tr>\n",
       "      <th>100002</th>\n",
       "      <td>671</td>\n",
       "      <td>6385</td>\n",
       "      <td>2.5</td>\n",
       "    </tr>\n",
       "    <tr>\n",
       "      <th>100003</th>\n",
       "      <td>671</td>\n",
       "      <td>6565</td>\n",
       "      <td>3.5</td>\n",
       "    </tr>\n",
       "  </tbody>\n",
       "</table>\n",
       "<p>100004 rows × 3 columns</p>\n",
       "</div>"
      ],
      "text/plain": [
       "        user  movie  rating\n",
       "0          1     31     2.5\n",
       "1          1   1029     3.0\n",
       "2          1   1061     3.0\n",
       "3          1   1129     2.0\n",
       "4          1   1172     4.0\n",
       "...      ...    ...     ...\n",
       "99999    671   6268     2.5\n",
       "100000   671   6269     4.0\n",
       "100001   671   6365     4.0\n",
       "100002   671   6385     2.5\n",
       "100003   671   6565     3.5\n",
       "\n",
       "[100004 rows x 3 columns]"
      ]
     },
     "execution_count": 4,
     "metadata": {},
     "output_type": "execute_result"
    }
   ],
   "source": [
    "ratings = ratings.loc[:,[\"user\",\"movie\",\"rating\"]]\n",
    "ratings"
   ]
  },
  {
   "cell_type": "code",
   "execution_count": 5,
   "metadata": {},
   "outputs": [],
   "source": [
    "df.drop(['status', 'title_x', 'title_y'], axis=1, inplace=True)"
   ]
  },
  {
   "cell_type": "code",
   "execution_count": 6,
   "metadata": {},
   "outputs": [
    {
     "data": {
      "text/html": [
       "<div>\n",
       "<style scoped>\n",
       "    .dataframe tbody tr th:only-of-type {\n",
       "        vertical-align: middle;\n",
       "    }\n",
       "\n",
       "    .dataframe tbody tr th {\n",
       "        vertical-align: top;\n",
       "    }\n",
       "\n",
       "    .dataframe thead th {\n",
       "        text-align: right;\n",
       "    }\n",
       "</style>\n",
       "<table border=\"1\" class=\"dataframe\">\n",
       "  <thead>\n",
       "    <tr style=\"text-align: right;\">\n",
       "      <th></th>\n",
       "      <th>movie</th>\n",
       "      <th>cast</th>\n",
       "      <th>crew</th>\n",
       "      <th>budget</th>\n",
       "      <th>genres</th>\n",
       "      <th>homepage</th>\n",
       "      <th>keywords</th>\n",
       "      <th>original_language</th>\n",
       "      <th>original_title</th>\n",
       "      <th>overview</th>\n",
       "      <th>...</th>\n",
       "      <th>release_date</th>\n",
       "      <th>revenue</th>\n",
       "      <th>runtime</th>\n",
       "      <th>spoken_languages</th>\n",
       "      <th>tagline</th>\n",
       "      <th>vote_average</th>\n",
       "      <th>vote_count</th>\n",
       "      <th>user</th>\n",
       "      <th>rating</th>\n",
       "      <th>timestamp</th>\n",
       "    </tr>\n",
       "  </thead>\n",
       "  <tbody>\n",
       "    <tr>\n",
       "      <th>0</th>\n",
       "      <td>285</td>\n",
       "      <td>[{\"cast_id\": 4, \"character\": \"Captain Jack Spa...</td>\n",
       "      <td>[{\"credit_id\": \"52fe4232c3a36847f800b579\", \"de...</td>\n",
       "      <td>300000000</td>\n",
       "      <td>[{\"id\": 12, \"name\": \"Adventure\"}, {\"id\": 14, \"...</td>\n",
       "      <td>http://disney.go.com/disneypictures/pirates/</td>\n",
       "      <td>[{\"id\": 270, \"name\": \"ocean\"}, {\"id\": 726, \"na...</td>\n",
       "      <td>en</td>\n",
       "      <td>Pirates of the Caribbean: At World's End</td>\n",
       "      <td>Captain Barbossa, long believed to be dead, ha...</td>\n",
       "      <td>...</td>\n",
       "      <td>2007-05-19</td>\n",
       "      <td>961000000</td>\n",
       "      <td>169.0</td>\n",
       "      <td>[{\"iso_639_1\": \"en\", \"name\": \"English\"}]</td>\n",
       "      <td>At the end of the world, the adventure begins.</td>\n",
       "      <td>6.9</td>\n",
       "      <td>4500</td>\n",
       "      <td>39</td>\n",
       "      <td>4.0</td>\n",
       "      <td>832523436</td>\n",
       "    </tr>\n",
       "  </tbody>\n",
       "</table>\n",
       "<p>1 rows × 23 columns</p>\n",
       "</div>"
      ],
      "text/plain": [
       "   movie                                               cast   \n",
       "0    285  [{\"cast_id\": 4, \"character\": \"Captain Jack Spa...  \\\n",
       "\n",
       "                                                crew     budget   \n",
       "0  [{\"credit_id\": \"52fe4232c3a36847f800b579\", \"de...  300000000  \\\n",
       "\n",
       "                                              genres   \n",
       "0  [{\"id\": 12, \"name\": \"Adventure\"}, {\"id\": 14, \"...  \\\n",
       "\n",
       "                                       homepage   \n",
       "0  http://disney.go.com/disneypictures/pirates/  \\\n",
       "\n",
       "                                            keywords original_language   \n",
       "0  [{\"id\": 270, \"name\": \"ocean\"}, {\"id\": 726, \"na...                en  \\\n",
       "\n",
       "                             original_title   \n",
       "0  Pirates of the Caribbean: At World's End  \\\n",
       "\n",
       "                                            overview  ...  release_date   \n",
       "0  Captain Barbossa, long believed to be dead, ha...  ...    2007-05-19  \\\n",
       "\n",
       "     revenue runtime                          spoken_languages   \n",
       "0  961000000   169.0  [{\"iso_639_1\": \"en\", \"name\": \"English\"}]  \\\n",
       "\n",
       "                                          tagline  vote_average vote_count   \n",
       "0  At the end of the world, the adventure begins.           6.9       4500  \\\n",
       "\n",
       "  user  rating  timestamp  \n",
       "0   39     4.0  832523436  \n",
       "\n",
       "[1 rows x 23 columns]"
      ]
     },
     "execution_count": 6,
     "metadata": {},
     "output_type": "execute_result"
    }
   ],
   "source": [
    "df.head(1)"
   ]
  },
  {
   "cell_type": "code",
   "execution_count": 7,
   "metadata": {},
   "outputs": [
    {
     "data": {
      "text/plain": [
       "6.802310053308922"
      ]
     },
     "execution_count": 7,
     "metadata": {},
     "output_type": "execute_result"
    }
   ],
   "source": [
    "df.vote_average.mean()"
   ]
  },
  {
   "cell_type": "code",
   "execution_count": 8,
   "metadata": {},
   "outputs": [
    {
     "name": "stdout",
     "output_type": "stream",
     "text": [
      "856 1\n"
     ]
    }
   ],
   "source": [
    "# what we need is that movie id and title\n",
    "df = df.loc[:,[\"movie\",\"original_title\",\"user\",\"vote_average\"]]\n",
    "\n",
    "# re writing the movie columns into number from 1-857 one number for each \"original_title\"\n",
    "df[\"movie\"] = df[\"original_title\"].astype('category').cat.codes\n",
    "df[\"user\"] = df[\"user\"].astype('category').cat.codes\n",
    "\n",
    "# df['user'].unique().shape\n",
    "df['user'] +=1\n",
    "df['movie'] +=1\n",
    "print(df[\"movie\"].max(), df[\"movie\"].min())"
   ]
  },
  {
   "cell_type": "code",
   "execution_count": 9,
   "metadata": {},
   "outputs": [],
   "source": [
    "# selecting movie, user and vote_average colmns\n",
    "df1 = df.loc[:,[\"movie\",\"user\",\"vote_average\"]]\n",
    "df1.rename(columns={'vote_average':'rating'}, inplace=True)\n",
    "df1.to_csv(\"Processed_data_tmdb.csv\")"
   ]
  },
  {
   "cell_type": "code",
   "execution_count": 10,
   "metadata": {},
   "outputs": [
    {
     "name": "stderr",
     "output_type": "stream",
     "text": [
      "/tmp/ipykernel_82699/1097006603.py:3: SettingWithCopyWarning: \n",
      "A value is trying to be set on a copy of a slice from a DataFrame\n",
      "\n",
      "See the caveats in the documentation: https://pandas.pydata.org/pandas-docs/stable/user_guide/indexing.html#returning-a-view-versus-a-copy\n",
      "  movie_names.sort_values(\"movie\", inplace=True)\n",
      "/tmp/ipykernel_82699/1097006603.py:5: SettingWithCopyWarning: \n",
      "A value is trying to be set on a copy of a slice from a DataFrame\n",
      "\n",
      "See the caveats in the documentation: https://pandas.pydata.org/pandas-docs/stable/user_guide/indexing.html#returning-a-view-versus-a-copy\n",
      "  movie_names.drop_duplicates(keep=\"first\", inplace=True)\n"
     ]
    }
   ],
   "source": [
    "# Movie name vs movieId table\n",
    "movie_names = df[[\"movie\",\"original_title\"]]\n",
    "movie_names.sort_values(\"movie\", inplace=True)\n",
    "#removing duplicates\n",
    "movie_names.drop_duplicates(keep=\"first\", inplace=True)\n",
    "movie_names.head(10)\n",
    "\n",
    "movie_names.to_csv(\"movie_names_tmdb.csv\")"
   ]
  }
 ],
 "metadata": {
  "kernelspec": {
   "display_name": "Python 3",
   "language": "python",
   "name": "python3"
  },
  "language_info": {
   "codemirror_mode": {
    "name": "ipython",
    "version": 3
   },
   "file_extension": ".py",
   "mimetype": "text/x-python",
   "name": "python",
   "nbconvert_exporter": "python",
   "pygments_lexer": "ipython3",
   "version": "3.10.6"
  },
  "orig_nbformat": 4
 },
 "nbformat": 4,
 "nbformat_minor": 2
}
