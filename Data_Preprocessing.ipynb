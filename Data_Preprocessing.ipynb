{
 "cells": [
  {
   "cell_type": "code",
   "execution_count": 1,
   "metadata": {},
   "outputs": [],
   "source": [
    "import pandas as pd\n",
    "import numpy as np\n",
    "import matplotlib.pyplot as plt\n",
    "from sklearn import preprocessing\n",
    "import ast"
   ]
  },
  {
   "attachments": {},
   "cell_type": "markdown",
   "metadata": {},
   "source": [
    "Data  Preprocessing"
   ]
  },
  {
   "cell_type": "code",
   "execution_count": 2,
   "metadata": {},
   "outputs": [
    {
     "name": "stderr",
     "output_type": "stream",
     "text": [
      "/tmp/ipykernel_123280/900588374.py:3: DtypeWarning: Columns (10) have mixed types. Specify dtype option on import or set low_memory=False.\n",
      "  df_mv = pd.read_csv('../Movie_recommendations/Data/movies_metadata.csv')\n"
     ]
    }
   ],
   "source": [
    "df_rating = pd.read_csv('../Movie_recommendations/Data/ratings.csv')\n",
    "df_rating1 = df_rating.sample(n=3000, replace=False, random_state=1)\n",
    "df_mv = pd.read_csv('../Movie_recommendations/Data/movies_metadata.csv')"
   ]
  },
  {
   "cell_type": "code",
   "execution_count": 3,
   "metadata": {},
   "outputs": [],
   "source": [
    "# generate mv features\n",
    "df_mv['id'] = df_mv['id'].astype(str)\n",
    "df_rating['movieId'] = df_rating['movieId'].astype(str)\n",
    "df_rate_mv_pro = pd.merge(df_mv, df_rating, how='right', left_on=['id'], right_on=['movieId'])\n"
   ]
  },
  {
   "cell_type": "code",
   "execution_count": 4,
   "metadata": {},
   "outputs": [],
   "source": [
    "def get_genre(outterlist):\n",
    "    outterlist = ast.literal_eval(outterlist)\n",
    "    lst = []\n",
    "    for a in outterlist:\n",
    "        try:\n",
    "            lst.append(a['name'])\n",
    "        except IndexError:\n",
    "            lst.append('')\n",
    "    return '|'.join(lst)"
   ]
  },
  {
   "cell_type": "code",
   "execution_count": 5,
   "metadata": {},
   "outputs": [
    {
     "name": "stderr",
     "output_type": "stream",
     "text": [
      "/tmp/ipykernel_123280/1785784440.py:2: SettingWithCopyWarning: \n",
      "A value is trying to be set on a copy of a slice from a DataFrame\n",
      "\n",
      "See the caveats in the documentation: https://pandas.pydata.org/pandas-docs/stable/user_guide/indexing.html#returning-a-view-versus-a-copy\n",
      "  df_rate_mv_pro1.dropna(inplace=True)\n",
      "/tmp/ipykernel_123280/1785784440.py:3: SettingWithCopyWarning: \n",
      "A value is trying to be set on a copy of a slice from a DataFrame.\n",
      "Try using .loc[row_indexer,col_indexer] = value instead\n",
      "\n",
      "See the caveats in the documentation: https://pandas.pydata.org/pandas-docs/stable/user_guide/indexing.html#returning-a-view-versus-a-copy\n",
      "  df_rate_mv_pro1['genres_descp'] = df_rate_mv_pro1['genres'].apply(get_genre)\n"
     ]
    }
   ],
   "source": [
    "df_rate_mv_pro1 = df_rate_mv_pro[['genres','id','title','userId','movieId', 'rating']]\n",
    "df_rate_mv_pro1.dropna(inplace=True)\n",
    "df_rate_mv_pro1['genres_descp'] = df_rate_mv_pro1['genres'].apply(get_genre)"
   ]
  },
  {
   "cell_type": "code",
   "execution_count": 6,
   "metadata": {},
   "outputs": [],
   "source": [
    "df_mv3 = df_rate_mv_pro1.loc[~df_rate_mv_pro1[\"id\"].str.contains('-')]\n",
    "df_mv3.drop_duplicates(subset =['id', 'title'], \n",
    "                     keep = 'first', inplace = True)\n",
    "df_mv3 = df_mv3.loc[df_mv3['genres_descp'].str.len()>3]"
   ]
  },
  {
   "cell_type": "code",
   "execution_count": 7,
   "metadata": {},
   "outputs": [],
   "source": [
    "df_mv4 = df_mv3.sample(n=3000, replace=False, random_state=1)\n",
    "df_mv4.reset_index(inplace=True)"
   ]
  },
  {
   "cell_type": "code",
   "execution_count": 8,
   "metadata": {},
   "outputs": [],
   "source": [
    "df_user_le = pd.DataFrame(df_mv4[\"userId\"].tolist(), columns=['user'])\n",
    "le = preprocessing.LabelEncoder()\n",
    "\n",
    "df_user_le['user_le'] = le.fit_transform(df_user_le['user'])\n",
    "df_mv_le = pd.DataFrame(df_mv4[\"movieId\"].tolist(), columns=['movie'])\n",
    "df_mv_le['mv_le'] = le.fit_transform(df_mv_le['movie'])"
   ]
  },
  {
   "cell_type": "code",
   "execution_count": 9,
   "metadata": {},
   "outputs": [
    {
     "name": "stdout",
     "output_type": "stream",
     "text": [
      "num of users: 1081\n",
      "num of movies: 3000\n"
     ]
    }
   ],
   "source": [
    "user_ids = np.array(df_user_le['user_le'].tolist())\n",
    "movie_ids = np.array(df_mv_le['mv_le'].tolist())\n",
    "user_ratings = np.array(df_mv4[\"rating\"].tolist())\n",
    "print ('num of users:',df_mv4['userId'].nunique())\n",
    "print ('num of movies:',df_mv4['movieId'].nunique())\n",
    "\n",
    "df = pd.DataFrame({'user': user_ids, 'movie': movie_ids, 'rating': user_ratings})\n",
    "\n",
    "df.to_csv('Processed_Data.csv', index=False)"
   ]
  },
  {
   "cell_type": "code",
   "execution_count": 11,
   "metadata": {},
   "outputs": [
    {
     "name": "stderr",
     "output_type": "stream",
     "text": [
      "/tmp/ipykernel_123280/2780577925.py:3: SettingWithCopyWarning: \n",
      "A value is trying to be set on a copy of a slice from a DataFrame\n",
      "\n",
      "See the caveats in the documentation: https://pandas.pydata.org/pandas-docs/stable/user_guide/indexing.html#returning-a-view-versus-a-copy\n",
      "  df_mv5.drop_duplicates(subset =['movieId', 'title'],\n"
     ]
    }
   ],
   "source": [
    "# movieId Vs movie name\n",
    "df_mv5 = df_mv4[['movieId', 'title']]\n",
    "df_mv5.drop_duplicates(subset =['movieId', 'title'],\n",
    "                        keep = 'first', inplace = True) \n",
    "df_mv5.to_csv('movieId_Vs_movie_name.csv', index=False)\n",
    "# df_mv5"
   ]
  }
 ],
 "metadata": {
  "kernelspec": {
   "display_name": "Python 3",
   "language": "python",
   "name": "python3"
  },
  "language_info": {
   "codemirror_mode": {
    "name": "ipython",
    "version": 3
   },
   "file_extension": ".py",
   "mimetype": "text/x-python",
   "name": "python",
   "nbconvert_exporter": "python",
   "pygments_lexer": "ipython3",
   "version": "3.10.6"
  },
  "orig_nbformat": 4
 },
 "nbformat": 4,
 "nbformat_minor": 2
}
