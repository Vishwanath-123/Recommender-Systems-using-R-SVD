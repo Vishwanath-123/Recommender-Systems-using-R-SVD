{
 "cells": [
  {
   "cell_type": "code",
   "execution_count": 1,
   "metadata": {},
   "outputs": [],
   "source": [
    "import pandas as pd\n",
    "import numpy as np\n",
    "import matplotlib.pyplot as plt"
   ]
  },
  {
   "cell_type": "code",
   "execution_count": 2,
   "metadata": {},
   "outputs": [
    {
     "name": "stdout",
     "output_type": "stream",
     "text": [
      "1 856\n",
      "1 670\n",
      "Number of unique users:  670\n",
      "Number of unique movies:  856\n"
     ]
    }
   ],
   "source": [
    "# loading data\n",
    "#loading the data from csv file\n",
    "# df = pd.read_csv('Processed_Data.csv')\n",
    "df = pd.read_csv('../Movie_recommendations/Processed_data_tmdb.csv')\n",
    "user_ids = df['user'].values\n",
    "movie_ids = df['movie'].values\n",
    "user_ratings = df['rating'].values\n",
    "\n",
    "# assigning unique ids to users and movies\n",
    "unique_user_ids = np.unique(user_ids)\n",
    "unique_movie_ids = np.unique(movie_ids)\n",
    "print(np.min(unique_movie_ids), np.max(unique_movie_ids))\n",
    "print(np.min(unique_user_ids), np.max(unique_user_ids))\n",
    "unique_user_ids += 1\n",
    "unique_movie_ids += 1\n",
    "print('Number of unique users: ', len(unique_user_ids))\n",
    "print('Number of unique movies: ', len(unique_movie_ids))\n",
    "\n",
    "# creating a matrix of users and movies\n",
    "n_users = len(np.unique(user_ids))\n",
    "n_movies = len(np.unique(movie_ids))\n",
    "user_movie_matrix = np.zeros((n_users, n_movies))\n",
    "for i in range(df.shape[0]):\n",
    "    user_movie_matrix[user_ids[i]-1, movie_ids[i]-1] = user_ratings[i]\n",
    "\n",
    "# df_movie_name\n",
    "df_movie_name = pd.read_csv(\"../Movie_recommendations/movie_names_tmdb.csv\")"
   ]
  },
  {
   "cell_type": "code",
   "execution_count": 3,
   "metadata": {},
   "outputs": [],
   "source": [
    "def RSVD(X, reg, k, niter, v_rand):\n",
    "    def UfromV(V, l, X):\n",
    "        temp = V.T@ V + l*np.identity(V.shape[1])\n",
    "        temp = np.linalg.inv(temp)\n",
    "        temp = V@temp\n",
    "        U = X@temp\n",
    "        return U\n",
    "    def VfromU(U, l, X):\n",
    "        temp = U.T@ U + l*np.identity(U.shape[1])\n",
    "        temp = np.linalg.inv(temp)\n",
    "        V = (X.T)@U@temp\n",
    "        return V\n",
    "\n",
    "    # Randomly initialised V with Column size = k  and Row size = n_movies\n",
    "    V = v_rand\n",
    "    threshould = 1e-20\n",
    "    error = []\n",
    "    i = 0\n",
    "    loss = 1e9\n",
    "    while i < (niter) and  loss > threshould:\n",
    "        V_temp = V\n",
    "        if i%2==0:\n",
    "            U = UfromV(V_temp, reg, X)\n",
    "        else:\n",
    "            V = VfromU(U, reg, X)\n",
    "            # print(\"testing: \", np.linalg.norm(V - V_temp))\n",
    "            error.append(np.linalg.norm(V - V_temp)/np.sqrt(V.shape[0]*V.shape[1]))\n",
    "            loss = np.linalg.norm(V - V_temp)\n",
    "        # error.append(np.linalg.norm(X - U@V.T))\n",
    "        i += 1\n",
    "    return U,V, error"
   ]
  },
  {
   "cell_type": "code",
   "execution_count": 4,
   "metadata": {},
   "outputs": [],
   "source": [
    "def well_defined_RSVD(X, reg, k):\n",
    "    F, S, G = np.linalg.svd(X)\n",
    "    G=G.T\n",
    "    D = np.zeros((X.shape[0], X.shape[1]))\n",
    "    S = np.diag(S)\n",
    "    # print(np.unique(S))\n",
    "    Omega = np.zeros((k, k))\n",
    "    for i in range(k):\n",
    "        Omega[i][i] = np.sqrt(np.abs(S[i][i]-reg))\n",
    "    # Omega = np.diag(Omega)\n",
    "    V_ = G[:, :k] @ Omega\n",
    "    U_ = F[:, :k] @ Omega\n",
    "    return U_, V_"
   ]
  },
  {
   "cell_type": "code",
   "execution_count": 5,
   "metadata": {},
   "outputs": [
    {
     "name": "stdout",
     "output_type": "stream",
     "text": [
      "Error in V and V_ for lambda =  0  is:  1.480062784964006\n",
      "Error in U and U_ for lambda =  0  is:  0.752593354372976\n",
      "Overall mean error for lambda =  0  is:  1.004088845835127\n",
      "Overall mean error for lambda =  0  is:  1.0040864186136162\n",
      "Error in V and V_ for lambda =  3  is:  1.1549401099608294\n",
      "Error in U and U_ for lambda =  3  is:  0.800405667190603\n",
      "Overall mean error for lambda =  3  is:  1.0042250312263064\n",
      "Overall mean error for lambda =  3  is:  1.004109861389655\n",
      "Error in V and V_ for lambda =  5  is:  1.069617985151519\n",
      "Error in U and U_ for lambda =  5  is:  0.8278937917229542\n",
      "Overall mean error for lambda =  5  is:  1.0043209309958887\n",
      "Overall mean error for lambda =  5  is:  1.004151536084609\n",
      "Error in V and V_ for lambda =  10  is:  0.960515878055662\n",
      "Error in U and U_ for lambda =  10  is:  0.8739133881579231\n",
      "Overall mean error for lambda =  10  is:  1.004570354793752\n",
      "Overall mean error for lambda =  10  is:  1.0043468631659893\n",
      "Error in V and V_ for lambda =  0  is:  1.4384931878337874\n",
      "Error in U and U_ for lambda =  0  is:  0.6301434247518564\n",
      "Overall mean error for lambda =  0  is:  0.9717537081520629\n",
      "Overall mean error for lambda =  0  is:  0.9712823012980155\n",
      "Error in V and V_ for lambda =  3  is:  0.9930289408922461\n",
      "Error in U and U_ for lambda =  3  is:  0.6896645332652068\n",
      "Overall mean error for lambda =  3  is:  0.9719763003711203\n",
      "Overall mean error for lambda =  3  is:  0.9713226918181339\n",
      "Error in V and V_ for lambda =  5  is:  0.9041719994146105\n",
      "Error in U and U_ for lambda =  5  is:  0.7174597956134168\n",
      "Overall mean error for lambda =  5  is:  0.9721093207075798\n",
      "Overall mean error for lambda =  5  is:  0.9713944930404798\n",
      "Error in V and V_ for lambda =  10  is:  0.8038324108304709\n",
      "Error in U and U_ for lambda =  10  is:  0.7527406178198266\n",
      "Overall mean error for lambda =  10  is:  0.9724804147106443\n",
      "Overall mean error for lambda =  10  is:  0.9717309905489153\n",
      "Error in V and V_ for lambda =  0  is:  1.3290829127570236\n",
      "Error in U and U_ for lambda =  0  is:  0.5411878883879226\n",
      "Overall mean error for lambda =  0  is:  0.91796283949505\n",
      "Overall mean error for lambda =  0  is:  0.917730655877368\n",
      "Error in V and V_ for lambda =  3  is:  0.8222455399543495\n",
      "Error in U and U_ for lambda =  3  is:  0.6190725099143475\n",
      "Overall mean error for lambda =  3  is:  0.918335970301272\n",
      "Overall mean error for lambda =  3  is:  0.9178161484683179\n",
      "Error in V and V_ for lambda =  5  is:  0.7422900375132487\n",
      "Error in U and U_ for lambda =  5  is:  0.6475060878829411\n",
      "Overall mean error for lambda =  5  is:  0.9185510289853998\n",
      "Overall mean error for lambda =  5  is:  0.9179681156370888\n",
      "Error in V and V_ for lambda =  10  is:  0.6629503598865844\n",
      "Error in U and U_ for lambda =  10  is:  0.6716446205498313\n",
      "Overall mean error for lambda =  10  is:  0.9192653737107909\n",
      "Overall mean error for lambda =  10  is:  0.9186801266457865\n",
      "Error in V and V_ for lambda =  0  is:  1.0651261231939557\n",
      "Error in U and U_ for lambda =  0  is:  0.36351466674531757\n",
      "Overall mean error for lambda =  0  is:  0.5207918498121437\n",
      "Overall mean error for lambda =  0  is:  0.5196520698934738\n",
      "Error in V and V_ for lambda =  3  is:  0.42591125307974387\n",
      "Error in U and U_ for lambda =  3  is:  0.425155169438761\n",
      "Overall mean error for lambda =  3  is:  0.5230355813511697\n",
      "Overall mean error for lambda =  3  is:  0.5211597934086095\n",
      "Error in V and V_ for lambda =  5  is:  0.40420943951011756\n",
      "Error in U and U_ for lambda =  5  is:  0.43164942452170424\n",
      "Overall mean error for lambda =  5  is:  0.5255195148851546\n",
      "Overall mean error for lambda =  5  is:  0.5238294757233568\n",
      "Error in V and V_ for lambda =  10  is:  0.3810191888504746\n",
      "Error in U and U_ for lambda =  10  is:  0.42162605365142636\n",
      "Overall mean error for lambda =  10  is:  0.5376127157038596\n",
      "Overall mean error for lambda =  10  is:  0.5361664455304083\n"
     ]
    }
   ],
   "source": [
    "# Number of latent features K that we are considering\n",
    "\n",
    "K = [3, 5, 10, 100]\n",
    "for k in K:\n",
    "    v_rand = np.random.rand(user_movie_matrix.shape[1], k)\n",
    "\n",
    "    for l in [0, 3, 5, 10]:\n",
    "        U, V, error = RSVD(user_movie_matrix, l, k, 20, v_rand)\n",
    "        U_, V_ = well_defined_RSVD(user_movie_matrix, l, k)\n",
    "        print(\"Error in V and V_ for lambda = \", l, \" is: \", np.linalg.norm(V - V_)/np.sqrt(V.shape[0]*V.shape[1]))\n",
    "        print(\"Error in U and U_ for lambda = \", l, \" is: \", np.linalg.norm(U - U_)/np.sqrt(U.shape[0]*U.shape[1]))\n",
    "        print(\"Overall mean error for lambda = \", l, \" is: \", (np.linalg.norm(user_movie_matrix - U@V.T))/np.sqrt(user_movie_matrix.shape[0]*user_movie_matrix.shape[1]))\n",
    "        print(\"Overall mean error for lambda = \", l, \" is: \", (np.linalg.norm(user_movie_matrix - U_@V_.T))/np.sqrt(user_movie_matrix.shape[0]*user_movie_matrix.shape[1]))\n",
    "        plt.plot(error, label = \"lambda = \" + str(l))\n",
    "    plt.legend()\n",
    "    plt.xlabel(\"Iterations\")\n",
    "    plt.ylabel(\"$dV_t$\")\n",
    "    plt.title(\"Error vs Iterations for different values of lambda at K = \" + str(k))\n",
    "    # plt.show()\n",
    "    plt.savefig(\"../Movie_recommendations/Images-tmdb/K=\" + str(k) + \".png\")\n",
    "    plt.close()"
   ]
  },
  {
   "cell_type": "code",
   "execution_count": 6,
   "metadata": {},
   "outputs": [
    {
     "name": "stdout",
     "output_type": "stream",
     "text": [
      "9.232600079140166 -2.544279514078003\n",
      "9.493577506194688 -2.6962999549596893\n"
     ]
    }
   ],
   "source": [
    "# the resulting matrix is\n",
    "E = U@V.T\n",
    "E_ = U_@V_.T\n",
    "print(np.max(E), np.min(E))\n",
    "print(np.max(E_), np.min(E_))"
   ]
  },
  {
   "cell_type": "code",
   "execution_count": 7,
   "metadata": {},
   "outputs": [
    {
     "name": "stdout",
     "output_type": "stream",
     "text": [
      "     Unnamed: 0  movie                  original_title\n",
      "338       11379    339  Jay and Silent Bob Strike Back\n",
      "56        13671     57                    American Pie\n",
      "112        2225    113                   Blood Diamond\n",
      "354       10698    355              Kiss of the Dragon\n",
      "584       14424    585                     Stand by Me\n",
      "839       16497    840              Young Frankenstein\n",
      "511       12025    512                   Reign Over Me\n",
      "82        14018     83                    Barry Lyndon\n",
      "691       10819    692                       The Hours\n",
      "69          969     70                      Armageddon\n"
     ]
    }
   ],
   "source": [
    "#predicting the top N recommendations for a user\n",
    "def topNRecommendations(user_id, U, V, N):\n",
    "    user_id -= 1\n",
    "    user_ratings = U[user_id, :]\n",
    "    movie_ratings = V.T\n",
    "    Recommendation = user_ratings@movie_ratings\n",
    "    topN = np.argsort(Recommendation)[::-1][:N]\n",
    "    return topN\n",
    "a = topNRecommendations(1, U, V, 10)\n",
    "# print(a)\n",
    "print(df_movie_name.iloc[a, :])"
   ]
  }
 ],
 "metadata": {
  "kernelspec": {
   "display_name": "Python 3",
   "language": "python",
   "name": "python3"
  },
  "language_info": {
   "codemirror_mode": {
    "name": "ipython",
    "version": 3
   },
   "file_extension": ".py",
   "mimetype": "text/x-python",
   "name": "python",
   "nbconvert_exporter": "python",
   "pygments_lexer": "ipython3",
   "version": "3.10.6"
  },
  "orig_nbformat": 4
 },
 "nbformat": 4,
 "nbformat_minor": 2
}
